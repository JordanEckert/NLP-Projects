{
 "cells": [
  {
   "cell_type": "markdown",
   "source": [
    "# Reddit Post API\n",
    "\n",
    "The purpose of this notebook is to query a specific subreddit for the most recent posts and save those posts into a CSV and JSON file. This file is meant to be used in conjunction with the **Topic Modeling** notebook. The notebook contains the following contents:\n",
    "\n",
    "1. Create API Object\n",
    "2. Create Dataframe\n",
    "3. Exporting Dataframe"
   ],
   "metadata": {
    "collapsed": false
   }
  },
  {
   "cell_type": "markdown",
   "source": [
    "# Creating API Object\n",
    "\n",
    "Before anything else can be done, I had to first set up a Reddit development app. Once I had the app, I could find the necessary access keys and ID necessary to query the API."
   ],
   "metadata": {
    "collapsed": false
   }
  },
  {
   "cell_type": "code",
   "execution_count": 42,
   "outputs": [],
   "source": [
    "import myconfig\n",
    "\n",
    "# Necessary development app variables are saved on config file for convenience and safety. Reading the praw documentation can help find these variables on the Reddit development app page.\n",
    "cid = myconfig.cid\n",
    "csec = myconfig.csec\n",
    "ua = myconfig.ua"
   ],
   "metadata": {
    "collapsed": false
   }
  },
  {
   "cell_type": "code",
   "execution_count": 43,
   "outputs": [],
   "source": [
    "# The module to request the Reddit API is the praw module. This is just a wrapper module to make the requests.\n",
    "import praw\n",
    "\n",
    "# create a reddit connection\n",
    "reddit = praw.Reddit(client_id= cid,\n",
    "                     client_secret= csec,\n",
    "                     user_agent= ua)"
   ],
   "metadata": {
    "collapsed": false
   }
  },
  {
   "cell_type": "markdown",
   "source": [
    "### Testing the API Object\n",
    "Now that the API object is created, I wanted to test to make sure that it works and see what the structure of the data I would get from it would look like before making the dataframe.\n",
    "\n",
    "There are different ways to query the API object. The first test should pull the newest post in r/news. I also print off all the variables associated with a post, which allows me to get an idea of how I want the future database to be arranged. The second test should pull the top 5 posts in r/datascience and print out the post titles. There are ways to query multiple subreddits at a time, although they will not be necessary for the project."
   ],
   "metadata": {
    "collapsed": false
   }
  },
  {
   "cell_type": "code",
   "execution_count": 44,
   "outputs": [
    {
     "name": "stdout",
     "output_type": "stream",
     "text": [
      "{'comment_limit': 2048, 'comment_sort': 'confidence', '_reddit': <praw.reddit.Reddit object at 0x7f9db173edc0>, 'approved_at_utc': None, 'subreddit': Subreddit(display_name='news'), 'selftext': '', 'author_fullname': 't2_9zgtt86k', 'saved': False, 'mod_reason_title': None, 'gilded': 0, 'clicked': False, 'title': 'As the FBI comes under threat, its leader tries to stay out of fray', 'link_flair_richtext': [], 'subreddit_name_prefixed': 'r/news', 'hidden': False, 'pwls': 6, 'link_flair_css_class': None, 'downs': 0, 'top_awarded_type': None, 'hide_score': True, 'name': 't3_wtqo1r', 'quarantine': False, 'link_flair_text_color': 'dark', 'upvote_ratio': 0.89, 'author_flair_background_color': None, 'subreddit_type': 'public', 'ups': 209, 'total_awards_received': 0, 'media_embed': {}, 'author_flair_template_id': None, 'is_original_content': False, 'user_reports': [], 'secure_media': None, 'is_reddit_media_domain': False, 'is_meta': False, 'category': None, 'secure_media_embed': {}, 'link_flair_text': None, 'can_mod_post': False, 'score': 209, 'approved_by': None, 'is_created_from_ads_ui': False, 'author_premium': False, 'thumbnail': '', 'edited': False, 'author_flair_css_class': None, 'author_flair_richtext': [], 'gildings': {}, 'content_categories': None, 'is_self': False, 'mod_note': None, 'created': 1661056583.0, 'link_flair_type': 'text', 'wls': 6, 'removed_by_category': None, 'banned_by': None, 'author_flair_type': 'text', 'domain': 'washingtonpost.com', 'allow_live_comments': False, 'selftext_html': None, 'likes': None, 'suggested_sort': None, 'banned_at_utc': None, 'url_overridden_by_dest': 'https://www.washingtonpost.com/national-security/2022/08/20/fbi-comes-under-threat-its-leader-tries-stay-out-view/', 'view_count': None, 'archived': False, 'no_follow': False, 'is_crosspostable': False, 'pinned': False, 'over_18': False, 'all_awardings': [], 'awarders': [], 'media_only': False, 'can_gild': False, 'spoiler': False, 'locked': False, 'author_flair_text': None, 'treatment_tags': [], 'visited': False, 'removed_by': None, 'num_reports': None, 'distinguished': None, 'subreddit_id': 't5_2qh3l', 'author_is_blocked': False, 'mod_reason_by': None, 'removal_reason': None, 'link_flair_background_color': '', 'id': 'wtqo1r', 'is_robot_indexable': True, 'report_reasons': None, 'author': Redditor(name='Then_Bandicoot249'), 'discussion_type': None, 'num_comments': 19, 'send_replies': False, 'whitelist_status': 'all_ads', 'contest_mode': False, 'mod_reports': [], 'author_patreon_flair': False, 'author_flair_text_color': None, 'permalink': '/r/news/comments/wtqo1r/as_the_fbi_comes_under_threat_its_leader_tries_to/', 'parent_whitelist_status': 'all_ads', 'stickied': False, 'url': 'https://www.washingtonpost.com/national-security/2022/08/20/fbi-comes-under-threat-its-leader-tries-stay-out-view/', 'subreddit_subscribers': 25099677, 'created_utc': 1661056583.0, 'num_crossposts': 0, 'media': None, 'is_video': False, '_fetched': False, '_comments_by_id': {}}\n"
     ]
    }
   ],
   "source": [
    "new_post = reddit.subreddit('news').new(limit = 1)\n",
    "for post in new_post:\n",
    "    print(vars(post))"
   ],
   "metadata": {
    "collapsed": false
   }
  },
  {
   "cell_type": "code",
   "execution_count": 45,
   "outputs": [
    {
     "name": "stdout",
     "output_type": "stream",
     "text": [
      "data siens\n",
      "The pain and excitement\n",
      "Shout Out to All the Mediocre Data Scientists Out There\n",
      "It’s never too early\n",
      "Guys, we’ve been doing it wrong this whole time\n"
     ]
    }
   ],
   "source": [
    "top_post = reddit.subreddit('datascience').top(limit = 5)\n",
    "for post in top_post:\n",
    "    print(post.title)"
   ],
   "metadata": {
    "collapsed": false
   }
  },
  {
   "cell_type": "markdown",
   "source": [
    "# Creating the dataframe"
   ],
   "metadata": {
    "collapsed": false
   }
  },
  {
   "cell_type": "code",
   "execution_count": 46,
   "outputs": [
    {
     "data": {
      "text/plain": "                                               title  \\\n0  As the FBI comes under threat, its leader trie...   \n1  Daughter of Russian who was inspirational forc...   \n2  Caught in act, suspect in catalytic theft free...   \n3  Climate change forces indigenous islanders in ...   \n4  Albania arrests two Russians, one Ukrainian tr...   \n5  Russia accuses Ukraine of ‘chemical terrorism’...   \n6  Gary Busey charged with sex offenses at Monste...   \n7  China sentences tycoon Xiao Jianhua to 13 year...   \n8  Public schools receive 'In God We Trust' poste...   \n9  UN: US buying big Ukraine grain shipment for h...   \n\n                                         article_url  score  pinned  \\\n0  https://www.washingtonpost.com/national-securi...    212   False   \n1  https://www.cnn.com/2022/08/20/europe/darya-du...   3891   False   \n2  https://www.ktvu.com/news/caught-in-act-suspec...   2088   False   \n3  https://www.bbc.com/news/av/world-latin-americ...   1002   False   \n4  https://www.reuters.com/world/europe/albania-a...    797   False   \n5  https://www.aljazeera.com/news/2022/8/20/russi...    250   False   \n6             https://www.nbcnews.com/news/rcna44079   6444   False   \n7  https://www.nbcnews.com/news/world/china-tycoo...   2303   False   \n8  https://www.cnn.com/2022/08/19/us/texas-school...  21342   False   \n9  https://apnews.com/article/russia-ukraine-drou...    767   False   \n\n   upvote_ratio  total_awards   created_utc  \n0          0.89             0  1.661057e+09  \n1          0.97             5  1.661051e+09  \n2          0.95             0  1.661045e+09  \n3          0.93             0  1.661038e+09  \n4          0.96             1  1.661031e+09  \n5          0.82             0  1.661029e+09  \n6          0.96             1  1.661029e+09  \n7          0.96             0  1.661022e+09  \n8          0.88             2  1.661019e+09  \n9          0.95             0  1.661014e+09  ",
      "text/html": "<div>\n<style scoped>\n    .dataframe tbody tr th:only-of-type {\n        vertical-align: middle;\n    }\n\n    .dataframe tbody tr th {\n        vertical-align: top;\n    }\n\n    .dataframe thead th {\n        text-align: right;\n    }\n</style>\n<table border=\"1\" class=\"dataframe\">\n  <thead>\n    <tr style=\"text-align: right;\">\n      <th></th>\n      <th>title</th>\n      <th>article_url</th>\n      <th>score</th>\n      <th>pinned</th>\n      <th>upvote_ratio</th>\n      <th>total_awards</th>\n      <th>created_utc</th>\n    </tr>\n  </thead>\n  <tbody>\n    <tr>\n      <th>0</th>\n      <td>As the FBI comes under threat, its leader trie...</td>\n      <td>https://www.washingtonpost.com/national-securi...</td>\n      <td>212</td>\n      <td>False</td>\n      <td>0.89</td>\n      <td>0</td>\n      <td>1.661057e+09</td>\n    </tr>\n    <tr>\n      <th>1</th>\n      <td>Daughter of Russian who was inspirational forc...</td>\n      <td>https://www.cnn.com/2022/08/20/europe/darya-du...</td>\n      <td>3891</td>\n      <td>False</td>\n      <td>0.97</td>\n      <td>5</td>\n      <td>1.661051e+09</td>\n    </tr>\n    <tr>\n      <th>2</th>\n      <td>Caught in act, suspect in catalytic theft free...</td>\n      <td>https://www.ktvu.com/news/caught-in-act-suspec...</td>\n      <td>2088</td>\n      <td>False</td>\n      <td>0.95</td>\n      <td>0</td>\n      <td>1.661045e+09</td>\n    </tr>\n    <tr>\n      <th>3</th>\n      <td>Climate change forces indigenous islanders in ...</td>\n      <td>https://www.bbc.com/news/av/world-latin-americ...</td>\n      <td>1002</td>\n      <td>False</td>\n      <td>0.93</td>\n      <td>0</td>\n      <td>1.661038e+09</td>\n    </tr>\n    <tr>\n      <th>4</th>\n      <td>Albania arrests two Russians, one Ukrainian tr...</td>\n      <td>https://www.reuters.com/world/europe/albania-a...</td>\n      <td>797</td>\n      <td>False</td>\n      <td>0.96</td>\n      <td>1</td>\n      <td>1.661031e+09</td>\n    </tr>\n    <tr>\n      <th>5</th>\n      <td>Russia accuses Ukraine of ‘chemical terrorism’...</td>\n      <td>https://www.aljazeera.com/news/2022/8/20/russi...</td>\n      <td>250</td>\n      <td>False</td>\n      <td>0.82</td>\n      <td>0</td>\n      <td>1.661029e+09</td>\n    </tr>\n    <tr>\n      <th>6</th>\n      <td>Gary Busey charged with sex offenses at Monste...</td>\n      <td>https://www.nbcnews.com/news/rcna44079</td>\n      <td>6444</td>\n      <td>False</td>\n      <td>0.96</td>\n      <td>1</td>\n      <td>1.661029e+09</td>\n    </tr>\n    <tr>\n      <th>7</th>\n      <td>China sentences tycoon Xiao Jianhua to 13 year...</td>\n      <td>https://www.nbcnews.com/news/world/china-tycoo...</td>\n      <td>2303</td>\n      <td>False</td>\n      <td>0.96</td>\n      <td>0</td>\n      <td>1.661022e+09</td>\n    </tr>\n    <tr>\n      <th>8</th>\n      <td>Public schools receive 'In God We Trust' poste...</td>\n      <td>https://www.cnn.com/2022/08/19/us/texas-school...</td>\n      <td>21342</td>\n      <td>False</td>\n      <td>0.88</td>\n      <td>2</td>\n      <td>1.661019e+09</td>\n    </tr>\n    <tr>\n      <th>9</th>\n      <td>UN: US buying big Ukraine grain shipment for h...</td>\n      <td>https://apnews.com/article/russia-ukraine-drou...</td>\n      <td>767</td>\n      <td>False</td>\n      <td>0.95</td>\n      <td>0</td>\n      <td>1.661014e+09</td>\n    </tr>\n  </tbody>\n</table>\n</div>"
     },
     "execution_count": 46,
     "metadata": {},
     "output_type": "execute_result"
    }
   ],
   "source": [
    "import pandas as pd\n",
    "\n",
    "# List for df conversion\n",
    "posts = []\n",
    "\n",
    "# Using the API to get 5000 new posts in r/news\n",
    "news_posts = reddit.subreddit('news').new(limit=5000)\n",
    "\n",
    "# Return the attributes\n",
    "for post in news_posts:\n",
    "    posts.append([post.title, # Title for the post\n",
    "                  post.url, # Web URL to the post\n",
    "                  post.score, # Reddit score on the post\n",
    "                  post.pinned, # If the post is pinned or not\n",
    "                  post.upvote_ratio, # Ratio of upvotes to downvotes\n",
    "                  post.total_awards_received, # Total number of awards a post received\n",
    "                  post.created_utc]) # When the post was created - UTC\n",
    "\n",
    "# Creating the dataframe\n",
    "posts = pd.DataFrame(posts, columns=['title',' article_url','score', 'pinned', 'upvote_ratio', 'total_awards', 'created_utc'])\n",
    "\n",
    "# Checking results\n",
    "posts.head(10)"
   ],
   "metadata": {
    "collapsed": false
   }
  },
  {
   "cell_type": "markdown",
   "source": [
    "# Exporting the dataframe\n",
    "\n",
    "NOTE: Encoding / decoding can be weird with some characters. The one that seems to have the most trouble, for me at least, is the possessive apostrophe.\n",
    "\n",
    "Luckily, I know that during preprocessing the data for topic modeling and sentiment analysis this character will be removed anyway. Therefore, I will go ahead and remove that character from all posts titles before I export to CSV and JSON files.\n",
    "\n",
    "Checking the dataset before analysis is recommended."
   ],
   "metadata": {
    "collapsed": false
   }
  },
  {
   "cell_type": "code",
   "execution_count": 47,
   "outputs": [],
   "source": [
    "import re\n",
    "\n",
    "# Creating function to remove apostrophe from dataframe\n",
    "def removeApostrophe(text):\n",
    "    text = re.sub(\"'\", \" \", text)\n",
    "    return text\n",
    "\n",
    "# Applying function to post titles\n",
    "posts['title'] = posts['title'].apply(removeApostrophe)\n",
    "\n",
    "#Output a CSV\n",
    "posts.to_csv('../data/reddit_data.csv', encoding = \"utf-8\")\n",
    "\n",
    "#Output a JSON\n",
    "posts.to_json('../data/reddit_data.json')"
   ],
   "metadata": {
    "collapsed": false
   }
  }
 ],
 "metadata": {
  "kernelspec": {
   "display_name": "Python 3",
   "language": "python",
   "name": "python3"
  },
  "language_info": {
   "codemirror_mode": {
    "name": "ipython",
    "version": 2
   },
   "file_extension": ".py",
   "mimetype": "text/x-python",
   "name": "python",
   "nbconvert_exporter": "python",
   "pygments_lexer": "ipython2",
   "version": "2.7.6"
  }
 },
 "nbformat": 4,
 "nbformat_minor": 0
}
